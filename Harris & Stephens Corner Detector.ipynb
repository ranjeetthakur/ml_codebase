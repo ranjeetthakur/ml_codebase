{
 "cells": [
  {
   "cell_type": "code",
   "execution_count": 2,
   "metadata": {},
   "outputs": [],
   "source": [
    "import cv2\n",
    "import numpy as np\n",
    "from skimage.io import imread\n",
    "import matplotlib.pyplot as plt\n",
    "from scipy import signal as sig\n",
    "from skimage.color import rgb2gray"
   ]
  },
  {
   "cell_type": "code",
   "execution_count": 4,
   "metadata": {},
   "outputs": [
    {
     "data": {
      "text/plain": [
       "<matplotlib.image.AxesImage at 0x12bceb240>"
      ]
     },
     "execution_count": 4,
     "metadata": {},
     "output_type": "execute_result"
    },
    {
     "data": {
      "image/png": "[encoded data removed]",
      "text/plain": [
       "<Figure size 432x288 with 1 Axes>"
      ]
     },
     "metadata": {
      "needs_background": "light"
     },
     "output_type": "display_data"
    }
   ],
   "source": [
    "im = cv2.imread('/Users/ranjeetsingh/Downloads/checkerboard.png')\n",
    "im_gray = cv2.cvtColor(im, cv2.COLOR_BGR2GRAY)\n",
    "plt.imshow(im_gray)"
   ]
  },
  {
   "cell_type": "code",
   "execution_count": 5,
   "metadata": {},
   "outputs": [
    {
     "name": "stdout",
     "output_type": "stream",
     "text": [
      "Populating the interactive namespace from numpy and matplotlib\n"
     ]
    },
    {
     "name": "stderr",
     "output_type": "stream",
     "text": [
      "/Users/ranjeetsingh/myenv/lib/python3.7/site-packages/IPython/core/magics/pylab.py:160: UserWarning: pylab import has clobbered these variables: ['imread']\n",
      "`%matplotlib` prevents importing * from pylab and numpy\n",
      "  \"\\n`%matplotlib` prevents importing * from pylab and numpy\"\n"
     ]
    },
    {
     "data": {
      "text/plain": [
       "(-0.5, 479.5, 479.5, -0.5)"
      ]
     },
     "execution_count": 5,
     "metadata": {},
     "output_type": "execute_result"
    },
    {
     "data": {
      "image/png": "[encoded data removed]",
      "text/plain": [
       "<Figure size 432x288 with 1 Axes>"
      ]
     },
     "metadata": {
      "needs_background": "light"
     },
     "output_type": "display_data"
    }
   ],
   "source": [
    "%pylab inline\n",
    "i_x = cv2.Sobel(im_gray, cv2.CV_64F, 1, 0)\n",
    "imshow(i_x, cmap=gray())\n",
    "title('Gradient in X direction')\n",
    "axis('off')"
   ]
  },
  {
   "cell_type": "code",
   "execution_count": 6,
   "metadata": {},
   "outputs": [
    {
     "data": {
      "text/plain": [
       "(-0.5, 479.5, 479.5, -0.5)"
      ]
     },
     "execution_count": 6,
     "metadata": {},
     "output_type": "execute_result"
    },
    {
     "data": {
      "image/png": "[encoded data removed]",
      "text/plain": [
       "<Figure size 432x288 with 1 Axes>"
      ]
     },
     "metadata": {
      "needs_background": "light"
     },
     "output_type": "display_data"
    }
   ],
   "source": [
    "# Calculate the gradient in X direction\n",
    "# I skipped Gaussian Smoothening after the derivative\n",
    "\n",
    "i_y = cv2.Sobel(im_gray, cv2.CV_64F, 0, 1)\n",
    "imshow(i_y, cmap=gray())\n",
    "title('Gradient in Y direction')\n",
    "axis('off')"
   ]
  },
  {
   "cell_type": "code",
   "execution_count": 7,
   "metadata": {},
   "outputs": [],
   "source": [
    "# Calculate the product of derivates in each direction\n",
    "i_xx = multiply(i_x, i_x)\n",
    "i_xy = multiply(i_x, i_y)\n",
    "i_yy = multiply(i_y, i_y)\n",
    "\n",
    "# Calculate the sum of product of derivates\n",
    "s_xx = cv2.GaussianBlur(i_xx, (5,5), 0)\n",
    "s_xy = cv2.GaussianBlur(i_xy, (5,5), 0)\n",
    "s_yy = cv2.GaussianBlur(i_yy, (5,5), 0)"
   ]
  },
  {
   "cell_type": "code",
   "execution_count": 8,
   "metadata": {},
   "outputs": [
    {
     "data": {
      "text/plain": [
       "(-0.5, 479.5, 479.5, -0.5)"
      ]
     },
     "execution_count": 8,
     "metadata": {},
     "output_type": "execute_result"
    },
    {
     "data": {
      "image/png": "[encoded data removed]",
      "text/plain": [
       "<Figure size 432x288 with 1 Axes>"
      ]
     },
     "metadata": {
      "needs_background": "light"
     },
     "output_type": "display_data"
    }
   ],
   "source": [
    "\n",
    "# Compute the response of the detector at each point\n",
    "k = .04 # Recommended value between .04 and .06\n",
    "det_h = multiply(s_xx, s_yy) - multiply(s_xy, s_xy)\n",
    "trace_h = s_xx + s_yy\n",
    "R = det_h - k*multiply(trace_h, trace_h)\n",
    "\n",
    "# Threshold the image\n",
    "ratio = .2 # Number to tweak\n",
    "thresh = abs(R) > ratio * abs(R).max()\n",
    "imshow(thresh, cmap=gray())\n",
    "title('Thresholded Image')\n",
    "axis('off')"
   ]
  },
  {
   "cell_type": "code",
   "execution_count": 9,
   "metadata": {},
   "outputs": [
    {
     "name": "stdout",
     "output_type": "stream",
     "text": [
      "Number of points detected before NMS = 547 \n",
      "Number of points detected after NMS = 209 \n"
     ]
    },
    {
     "data": {
      "text/plain": [
       "(-0.5, 479.5, 479.5, -0.5)"
      ]
     },
     "execution_count": 9,
     "metadata": {},
     "output_type": "execute_result"
    },
    {
     "data": {
      "image/png": "[encoded data removed]",
      "text/plain": [
       "<Figure size 432x288 with 1 Axes>"
      ]
     },
     "metadata": {
      "needs_background": "light"
     },
     "output_type": "display_data"
    }
   ],
   "source": [
    "# Compute non-maximal supression\n",
    "\n",
    "# Get the indexes of the non zero values\n",
    "non_zero_cords = np.nonzero(thresh)\n",
    "\n",
    "# Tupled Co-ordinates\n",
    "tuple_cords = [(i, j) for i,j in zip(non_zero_cords[0], non_zero_cords[1])] \n",
    "# Values at the these co-ordinates\n",
    "values = [abs(R)[i, j] for i, j in tuple_cords]\n",
    "# Sort the co-ordinates based on the R values\n",
    "sorted_cords = [tuple_cords[i] for i in argsort(values)[::-1]]\n",
    "# Set Distance to perform NMS\n",
    "# Any point with this distance of an \n",
    "# already selected point will be suppressed\n",
    "distance = 10 # Number to tweak \n",
    "# List to hold the cords after NMS\n",
    "nms_cords = []\n",
    "nms_cords.append(sorted_cords[0])\n",
    "for cord in sorted_cords:\n",
    "    for nms_cord in nms_cords:\n",
    "        if abs(cord[0]-nms_cord[0]) < distance and abs(cord[1]-nms_cord[1]) < distance:\n",
    "            break\n",
    "    else:\n",
    "        nms_cords.append(cord)\n",
    "print(\"Number of points detected before NMS = {} \".format(sum(thresh)))\n",
    "print(\"Number of points detected after NMS = {} \".format(len(nms_cords)))\n",
    "\n",
    "    \n",
    "# Draw the image with the detected corners\n",
    "for nms_cord in nms_cords:\n",
    "    cv2.circle(im, (nms_cord[1], nms_cord[0]), 4, (0, 0, 255), -1)\n",
    "imshow(cv2.cvtColor(im, cv2.COLOR_BGR2RGB))\n",
    "title('Input Image with detected features')\n",
    "axis('off')"
   ]
  },
  {
   "cell_type": "code",
   "execution_count": null,
   "metadata": {},
   "outputs": [],
   "source": []
  }
 ],
 "metadata": {
  "kernelspec": {
   "display_name": "Python 3",
   "language": "python",
   "name": "python3"
  },
  "language_info": {
   "codemirror_mode": {
    "name": "ipython",
    "version": 3
   },
   "file_extension": ".py",
   "mimetype": "text/x-python",
   "name": "python",
   "nbconvert_exporter": "python",
   "pygments_lexer": "ipython3",
   "version": "3.7.1"
  }
 },
 "nbformat": 4,
 "nbformat_minor": 2
}
